{
 "cells": [
  {
   "cell_type": "code",
   "execution_count": 2,
   "metadata": {
    "collapsed": false
   },
   "outputs": [
    {
     "data": {
      "text/plain": [
       "\"\\nThe data for movie_reviews is downloaded from the bellow url (size = 3.81 MB)   - \\nhttps://raw.githubusercontent.com/nltk/nltk_data/gh-pages/packages/corpora/movie_reviews.zip\\n                    XXX---XXX---XXX---XXX---XXX---XXX--XXX---XXX\\nIn case one wants to improve the quality of analysis, he can downloaded a bigger dataset, the one given bellow - \\nhttp://ai.stanford.edu/~amaas//data/sentiment/aclImdb_v1.tar.gz\\nPlease note that this dataset is of size 80 MB's, and it will considerably incresae the runtime, but will also increase\\nthe accuracy.\\n\""
      ]
     },
     "execution_count": 2,
     "metadata": {},
     "output_type": "execute_result"
    }
   ],
   "source": [
    "import nltk\n",
    "import nltk.classify.util\n",
    "from nltk.classify import NaiveBayesClassifier\n",
    "from nltk.corpus import movie_reviews\n",
    "from nltk.corpus import stopwords\n",
    "import json\n",
    "from sklearn.metrics import accuracy_score\n",
    "from sklearn.datasets import load_files\n",
    "from sklearn.feature_extraction.text import CountVectorizer\n",
    "from sklearn.feature_extraction.text import TfidfTransformer\n",
    "from sklearn.naive_bayes import MultinomialNB\n",
    "from sklearn.model_selection import train_test_split\n",
    "\n",
    "moviedir = r'C:\\movie_reviews' #Please download the dataset given bellow and extract it in C drive.\n",
    "\"\"\"\n",
    "The data for movie_reviews is downloaded from the bellow url (size = 3.81 MB)   - \n",
    "https://raw.githubusercontent.com/nltk/nltk_data/gh-pages/packages/corpora/movie_reviews.zip\n",
    "                    XXX---XXX---XXX---XXX---XXX---XXX--XXX---XXX\n",
    "In case one wants to improve the quality of analysis, he can downloaded a bigger dataset, the one given bellow - \n",
    "http://ai.stanford.edu/~amaas//data/sentiment/aclImdb_v1.tar.gz\n",
    "Please note that this dataset is of size 80 MB's, and it will considerably incresae the runtime, but will also increase\n",
    "the accuracy.\n",
    "\"\"\"\n"
   ]
  },
  {
   "cell_type": "code",
   "execution_count": 3,
   "metadata": {
    "collapsed": true
   },
   "outputs": [],
   "source": [
    "class MovieSentimentAnalysis(object):\n",
    "    \"\"\"\n",
    "    Create features/tokens/string of words using an list of strings passed into the function\n",
    "    \"\"\"\n",
    "    def create_word_features(self,words):\n",
    "        stop_all = [',', '.', \"'\", '\"', '-', ')', '(', ':', '?'] + stopwords.words(\"english\")\n",
    "        useful_words = [word.lower() for word in words if word.lower() not in stop_all]\n",
    "        my_dict = dict([(word, True) for word in useful_words])\n",
    "        return my_dict\n",
    "        #EQUIVALENT CODE\n",
    "        #useful_words = []\n",
    "        #for word in words:\n",
    "        #    if word.lower() not in stop_all:\n",
    "        #        useful_words.append(word.lower())\n",
    "        #my_dict = dict([(word, True) for word in useful_words])\n",
    "        #return my_dict\n",
    "\n",
    "    \"\"\"\n",
    "    Perform overall sentiment analysis, on the basis weather the movie review is positive or not. Print the overall review\n",
    "    of the movie in terms of positive or negative.\n",
    "    \"\"\"\n",
    "    def sentiment_NaiveBayes(self):\n",
    "        #Create training features from nltk corpus - movie_reviews for 1000 negative reviews\n",
    "        neg_reviews = []\n",
    "        for fileid in movie_reviews.fileids('neg'):\n",
    "            words = movie_reviews.words(fileid)\n",
    "            neg_reviews.append((self.create_word_features(words), \"negative\"))\n",
    "        #Create training features from nltk corpus - movie_reviews for 1000 positive reviews\n",
    "        pos_reviews = []\n",
    "        for fileid in movie_reviews.fileids('pos'):\n",
    "            words = movie_reviews.words(fileid)\n",
    "            pos_reviews.append((self.create_word_features(words), \"positive\"))\n",
    "        complete_set = neg_reviews + pos_reviews\n",
    "        train_set = neg_reviews + pos_reviews[:750]\n",
    "        test_set =  neg_reviews[750:] + pos_reviews[750:]\n",
    "        classifier1 = NaiveBayesClassifier.train(train_set)\n",
    "        accuracy = nltk.classify.util.accuracy(classifier1, test_set)\n",
    "        print(\"The accuracy of the given training dataset for Naive Bayes model is \" + str(accuracy * 100)+\"%\\n\")\n",
    "        #Create a classifier from complete_set for increasing size of training dataset for the model\n",
    "        classifier = NaiveBayesClassifier.train(complete_set)\n",
    "        #Getting all the movie review data from offline json file\n",
    "        movie_list = []\n",
    "        keyword_list = []\n",
    "        with open('data.json', 'r') as f:\n",
    "            data = json.load(f)\n",
    "        for key in data.keys():\n",
    "            movie_list.append(key)\n",
    "            keyword_array = []\n",
    "            for review in data[key]:\n",
    "                keyword_array += review.split()\n",
    "            keyword_list.append(keyword_array)\n",
    "        #Determining weather the overall review of the movie is positive or not, on the basis of keywords used in the reviews.\n",
    "        for index in range(len(keyword_list)):\n",
    "            keywords = keyword_list[index]\n",
    "            created_features = self.create_word_features(keywords)\n",
    "            print(movie_list[index] + '  - The oveall review for this movie is ' +str(classifier.classify(created_features)))\n",
    "\n",
    "    \"\"\"\n",
    "    use tf-idf for getting the ratings of the movie - where increase in rating means movie being scary\n",
    "    \"\"\"\n",
    "    def tf_idf_scary_ratings(self):\n",
    "        # Copy all the data in movie_list and review list from the json file\n",
    "        movie_list = []\n",
    "        review_list = []\n",
    "        with open('data.json', 'r') as f:\n",
    "            data = json.load(f)\n",
    "        for key in data.keys():\n",
    "            movie_list.append(key)\n",
    "            keyword_array = []\n",
    "            for review in data[key]:\n",
    "                keyword_array.append(review)\n",
    "            review_list.append(keyword_array)\n",
    "        # Create tf-idf models\n",
    "        movie_train = load_files(moviedir, shuffle=True)\n",
    "        # print(len(movie_train.data))\n",
    "        # print(movie_train.target_names)\n",
    "        # initialize movie_vector object, and then turn movie train data into a vector\n",
    "        # use all 25K words. 82.2% acc [type-  print(sklearn.metrics.accuracy_score(y_test, y_pred))] as shown bellow\n",
    "        movie_vec = CountVectorizer(min_df=2, tokenizer=nltk.word_tokenize)\n",
    "        # movie_vec = CountVectorizer(min_df=2, tokenizer=nltk.word_tokenize, max_features = 3000) # use top 3000 words only. 78.5% acc.\n",
    "        movie_counts = movie_vec.fit_transform(movie_train.data)\n",
    "        # Convert raw frequency counts into TF-IDF values\n",
    "        tfidf_transformer = TfidfTransformer()\n",
    "        movie_tfidf = tfidf_transformer.fit_transform(movie_counts)\n",
    "        docs_train, docs_test, y_train, y_test = train_test_split(movie_tfidf, movie_train.target, test_size=0.20,random_state=12)\n",
    "        # Train a Multimoda Naive Bayes classifier\n",
    "        clf = MultinomialNB().fit(docs_train, y_train)\n",
    "        # Predicting the Test set results, find accuracy\n",
    "        y_pred = clf.predict(docs_test)\n",
    "        # Accuracy\n",
    "        print(\"\\nThe accuracy of the given dataset for tf-idf model is - \" + str(accuracy_score(y_test, y_pred) * 100)+\"%\\n\")\n",
    "        for index in range(len(review_list)):\n",
    "            reviews_new = review_list[index]\n",
    "            reviews_new_counts = movie_vec.transform(reviews_new)\n",
    "            reviews_new_tfidf = tfidf_transformer.transform(reviews_new_counts)\n",
    "            pred = clf.predict(reviews_new_tfidf)\n",
    "            score = sum(pred) / len(pred)\n",
    "            print(\"The ratings of the movie \" + movie_list[index] + \" (out of 10 - where 10 is the most scary) are - \" + str(score*10))\n"
   ]
  },
  {
   "cell_type": "code",
   "execution_count": 4,
   "metadata": {
    "collapsed": false
   },
   "outputs": [
    {
     "name": "stdout",
     "output_type": "stream",
     "text": [
      "The accuracy of the given training dataset for Naive Bayes model is 95.0%\n",
      "\n",
      "It 2017 (film)  - The oveall review for this movie is positive\n",
      "Annabelle 2014 (film)  - The oveall review for this movie is positive\n",
      "The Conjuring 2013 (film)  - The oveall review for this movie is positive\n",
      "The Ring 2002 (film)  - The oveall review for this movie is positive\n",
      "The Exorcist 1973 (film)  - The oveall review for this movie is positive\n",
      "\n",
      "The accuracy of the given dataset for tf-idf model is - 82.25%\n",
      "\n",
      "The ratings of the movie It 2017 (film) (out of 10 - where 10 is the most scary) are - 3.68948247078\n",
      "The ratings of the movie Annabelle 2014 (film) (out of 10 - where 10 is the most scary) are - 1.63575042159\n",
      "The ratings of the movie The Conjuring 2013 (film) (out of 10 - where 10 is the most scary) are - 5.13468013468\n",
      "The ratings of the movie The Ring 2002 (film) (out of 10 - where 10 is the most scary) are - 3.35008375209\n",
      "The ratings of the movie The Exorcist 1973 (film) (out of 10 - where 10 is the most scary) are - 5.85858585859\n"
     ]
    }
   ],
   "source": [
    "if __name__== '__main__':\n",
    "    object = MovieSentimentAnalysis()\n",
    "    object.sentiment_NaiveBayes()\n",
    "    object.tf_idf_scary_ratings()"
   ]
  }
 ],
 "metadata": {
  "kernelspec": {
   "display_name": "Python 3",
   "language": "python",
   "name": "python3"
  },
  "language_info": {
   "codemirror_mode": {
    "name": "ipython",
    "version": 3
   },
   "file_extension": ".py",
   "mimetype": "text/x-python",
   "name": "python",
   "nbconvert_exporter": "python",
   "pygments_lexer": "ipython3",
   "version": "3.6.0"
  }
 },
 "nbformat": 4,
 "nbformat_minor": 2
}
